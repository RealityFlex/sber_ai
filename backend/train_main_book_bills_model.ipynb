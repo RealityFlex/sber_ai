{
 "cells": [
  {
   "cell_type": "code",
   "execution_count": 4,
   "metadata": {},
   "outputs": [],
   "source": [
    "import pandas as pd\n",
    "from catboost import CatBoostClassifier, Pool\n",
    "from sklearn.model_selection import train_test_split\n",
    "from sklearn.metrics import accuracy_score, classification_report\n",
    "from sklearn.preprocessing import LabelEncoder\n"
   ]
  },
  {
   "cell_type": "code",
   "execution_count": 5,
   "metadata": {},
   "outputs": [],
   "source": [
    "df = pd.read_excel(\"../data/example_output/Распределенные счета на оплату 3800-2023.xlsx\")\n",
    "df = df.drop([\n",
    "    'Год счета', \n",
    "    'Позиция счета', \n",
    "    'Номер позиции распределения', \n",
    "    'Дата отражения в учетной системе', \n",
    "    'Признак \"Использование в основной деятельности\"', \n",
    "    'Признак \"Способ использования\"', \n",
    "    'Площадь', \n",
    "    'Сумма распределения'\n",
    "    ], axis=1)\n"
   ]
  },
  {
   "cell_type": "code",
   "execution_count": 6,
   "metadata": {},
   "outputs": [],
   "source": [
    "another_df = pd.read_excel(\"../data/example_output/Распределенные счета на оплату 4200-4000-3800-2024.xlsx\")\n",
    "another_df = another_df.drop([\n",
    "    'Год счета', \n",
    "    'Позиция счета', \n",
    "    'Номер позиции распределения', \n",
    "    'Дата отражения в учетной системе', \n",
    "    'Признак \"Использование в основной деятельности\"', \n",
    "    'Признак \"Способ использования\"', \n",
    "    'Площадь', \n",
    "    'Сумма распределения'\n",
    "    ], axis=1)"
   ]
  },
  {
   "cell_type": "code",
   "execution_count": 7,
   "metadata": {},
   "outputs": [
    {
     "name": "stdout",
     "output_type": "stream",
     "text": [
      "<class 'pandas.core.frame.DataFrame'>\n",
      "Index: 870677 entries, 0 to 447106\n",
      "Data columns (total 9 columns):\n",
      " #   Column                 Non-Null Count   Dtype  \n",
      "---  ------                 --------------   -----  \n",
      " 0   Компания               870677 non-null  int64  \n",
      " 1   Номер счета            870677 non-null  int64  \n",
      " 2   ID договора            870677 non-null  object \n",
      " 3   Услуга                 870677 non-null  int64  \n",
      " 4   Класс услуги           870677 non-null  object \n",
      " 5   Здание                 854986 non-null  object \n",
      " 6   Класс ОС               860614 non-null  object \n",
      " 7   ID основного средства  870677 non-null  int64  \n",
      " 8   Счет главной книги     807677 non-null  float64\n",
      "dtypes: float64(1), int64(4), object(4)\n",
      "memory usage: 66.4+ MB\n"
     ]
    }
   ],
   "source": [
    "concated_df = pd.concat([df, another_df])\n",
    "concated_df.info()"
   ]
  },
  {
   "cell_type": "code",
   "execution_count": 8,
   "metadata": {},
   "outputs": [
    {
     "name": "stdout",
     "output_type": "stream",
     "text": [
      "<class 'pandas.core.frame.DataFrame'>\n",
      "Index: 1261956 entries, 0 to 391278\n",
      "Data columns (total 9 columns):\n",
      " #   Column                 Non-Null Count    Dtype  \n",
      "---  ------                 --------------    -----  \n",
      " 0   Компания               1261956 non-null  int64  \n",
      " 1   Номер счета            1261956 non-null  int64  \n",
      " 2   ID договора            1261956 non-null  object \n",
      " 3   Услуга                 1261956 non-null  int64  \n",
      " 4   Класс услуги           1261956 non-null  object \n",
      " 5   Здание                 1246265 non-null  object \n",
      " 6   Класс ОС               1240532 non-null  object \n",
      " 7   ID основного средства  1261956 non-null  int64  \n",
      " 8   Счет главной книги     1155218 non-null  float64\n",
      "dtypes: float64(1), int64(4), object(4)\n",
      "memory usage: 96.3+ MB\n"
     ]
    }
   ],
   "source": [
    "another_df = pd.read_excel(\"../data/example_output/Распределенные счета на оплату 5400-2023.xlsx\")\n",
    "another_df = another_df.drop([\n",
    "    'Год счета', \n",
    "    'Позиция счета', \n",
    "    'Номер позиции распределения', \n",
    "    'Дата отражения в учетной системе', \n",
    "    'Признак \"Использование в основной деятельности\"', \n",
    "    'Признак \"Способ использования\"', \n",
    "    'Площадь', \n",
    "    'Сумма распределения'\n",
    "    ], axis=1)\n",
    "concated_df = pd.concat([concated_df, another_df])\n",
    "concated_df.info()"
   ]
  },
  {
   "cell_type": "code",
   "execution_count": 9,
   "metadata": {},
   "outputs": [
    {
     "name": "stdout",
     "output_type": "stream",
     "text": [
      "<class 'pandas.core.frame.DataFrame'>\n",
      "Index: 1385160 entries, 0 to 123203\n",
      "Data columns (total 9 columns):\n",
      " #   Column                 Non-Null Count    Dtype  \n",
      "---  ------                 --------------    -----  \n",
      " 0   Компания               1385160 non-null  int64  \n",
      " 1   Номер счета            1385160 non-null  int64  \n",
      " 2   ID договора            1385160 non-null  object \n",
      " 3   Услуга                 1385160 non-null  int64  \n",
      " 4   Класс услуги           1385160 non-null  object \n",
      " 5   Здание                 1369469 non-null  object \n",
      " 6   Класс ОС               1360641 non-null  object \n",
      " 7   ID основного средства  1385160 non-null  int64  \n",
      " 8   Счет главной книги     1264077 non-null  float64\n",
      "dtypes: float64(1), int64(4), object(4)\n",
      "memory usage: 105.7+ MB\n"
     ]
    }
   ],
   "source": [
    "another_df = pd.read_excel(\"../data/example_output/Распределенные счета на оплату 5400-2024.xlsx\")\n",
    "another_df = another_df.drop([\n",
    "    'Год счета', \n",
    "    'Позиция счета', \n",
    "    'Номер позиции распределения', \n",
    "    'Дата отражения в учетной системе', \n",
    "    'Признак \"Использование в основной деятельности\"', \n",
    "    'Признак \"Способ использования\"', \n",
    "    'Площадь', \n",
    "    'Сумма распределения'\n",
    "    ], axis=1)\n",
    "concated_df = pd.concat([concated_df, another_df])\n",
    "concated_df.info()"
   ]
  },
  {
   "cell_type": "code",
   "execution_count": 10,
   "metadata": {},
   "outputs": [
    {
     "name": "stdout",
     "output_type": "stream",
     "text": [
      "<class 'pandas.core.frame.DataFrame'>\n",
      "Index: 1757716 entries, 0 to 372555\n",
      "Data columns (total 9 columns):\n",
      " #   Column                 Dtype  \n",
      "---  ------                 -----  \n",
      " 0   Компания               int64  \n",
      " 1   Номер счета            int64  \n",
      " 2   ID договора            object \n",
      " 3   Услуга                 int64  \n",
      " 4   Класс услуги           object \n",
      " 5   Здание                 object \n",
      " 6   Класс ОС               object \n",
      " 7   ID основного средства  int64  \n",
      " 8   Счет главной книги     float64\n",
      "dtypes: float64(1), int64(4), object(4)\n",
      "memory usage: 134.1+ MB\n"
     ]
    }
   ],
   "source": [
    "another_df = pd.read_excel(\"../data/example_output/Распределенные счета на оплату 5500-2023.xlsx\")\n",
    "another_df = another_df.drop([\n",
    "    'Год счета', \n",
    "    'Позиция счета', \n",
    "    'Номер позиции распределения', \n",
    "    'Дата отражения в учетной системе', \n",
    "    'Признак \"Использование в основной деятельности\"', \n",
    "    'Признак \"Способ использования\"', \n",
    "    'Площадь', \n",
    "    'Сумма распределения'\n",
    "    ], axis=1)\n",
    "concated_df = pd.concat([concated_df, another_df])\n",
    "concated_df.info()"
   ]
  },
  {
   "cell_type": "code",
   "execution_count": 11,
   "metadata": {},
   "outputs": [
    {
     "name": "stdout",
     "output_type": "stream",
     "text": [
      "<class 'pandas.core.frame.DataFrame'>\n",
      "Index: 1589973 entries, 0 to 372555\n",
      "Data columns (total 9 columns):\n",
      " #   Column                 Non-Null Count    Dtype  \n",
      "---  ------                 --------------    -----  \n",
      " 0   Компания               1589973 non-null  int64  \n",
      " 1   Номер счета            1589973 non-null  int64  \n",
      " 2   ID договора            1589973 non-null  object \n",
      " 3   Услуга                 1589973 non-null  int64  \n",
      " 4   Класс услуги           1589973 non-null  object \n",
      " 5   Здание                 1589973 non-null  object \n",
      " 6   Класс ОС               1589973 non-null  object \n",
      " 7   ID основного средства  1589973 non-null  int64  \n",
      " 8   Счет главной книги     1589973 non-null  float64\n",
      "dtypes: float64(1), int64(4), object(4)\n",
      "memory usage: 121.3+ MB\n"
     ]
    }
   ],
   "source": [
    "concated_df = concated_df.dropna()\n",
    "concated_df.info()"
   ]
  },
  {
   "cell_type": "code",
   "execution_count": 12,
   "metadata": {},
   "outputs": [
    {
     "name": "stdout",
     "output_type": "stream",
     "text": [
      "0:\tlearn: 1.4496333\ttotal: 21.3s\tremaining: 35m 6s\n",
      "10:\tlearn: 0.3160918\ttotal: 3m 46s\tremaining: 30m 33s\n",
      "20:\tlearn: 0.1095871\ttotal: 7m 11s\tremaining: 27m 3s\n",
      "30:\tlearn: 0.0421521\ttotal: 10m 25s\tremaining: 23m 11s\n",
      "40:\tlearn: 0.0172780\ttotal: 13m 39s\tremaining: 19m 39s\n",
      "50:\tlearn: 0.0079156\ttotal: 17m 2s\tremaining: 16m 22s\n",
      "60:\tlearn: 0.0039364\ttotal: 20m 24s\tremaining: 13m 2s\n",
      "70:\tlearn: 0.0025325\ttotal: 23m 51s\tremaining: 9m 44s\n",
      "80:\tlearn: 0.0018241\ttotal: 27m 16s\tremaining: 6m 23s\n",
      "90:\tlearn: 0.0014424\ttotal: 30m 42s\tremaining: 3m 2s\n",
      "99:\tlearn: 0.0012595\ttotal: 33m 48s\tremaining: 0us\n"
     ]
    },
    {
     "data": {
      "text/plain": [
       "<catboost.core.CatBoostClassifier at 0x1b3e0457350>"
      ]
     },
     "execution_count": 12,
     "metadata": {},
     "output_type": "execute_result"
    }
   ],
   "source": [
    "cat_features = ['Компания', 'Номер счета', 'ID договора', 'Услуга', 'Класс услуги', 'Здание', 'Класс ОС', 'ID основного средства']\n",
    "# Разделим данные на признаки (X) и целевую переменную (y)\n",
    "X = concated_df.drop(columns=['Счет главной книги'])\n",
    "y = concated_df['Счет главной книги']\n",
    "\n",
    "# Преобразуем целевую переменную в категориальные значения\n",
    "label_encoder = LabelEncoder()\n",
    "y = label_encoder.fit_transform(y)\n",
    "\n",
    "# Разделим данные на обучающую и тестовую выборки\n",
    "X_train, X_test, y_train, y_test = train_test_split(X, y, test_size=0.2, random_state=42)\n",
    "\n",
    "# Создадим Pool для CatBoost\n",
    "train_pool = Pool(data=X_train, label=y_train, cat_features=cat_features)\n",
    "test_pool = Pool(data=X_test, label=y_test, cat_features=cat_features)\n",
    "\n",
    "# Определим и обучим модель CatBoostClassifier\n",
    "model = CatBoostClassifier(\n",
    "    iterations=100,\n",
    "    learning_rate=0.1,\n",
    "    depth=6,\n",
    "    loss_function='MultiClass',\n",
    "    cat_features=cat_features,\n",
    "    verbose=10\n",
    ")\n",
    "\n",
    "# Обучение модели\n",
    "model.fit(train_pool)\n"
   ]
  },
  {
   "cell_type": "code",
   "execution_count": 16,
   "metadata": {},
   "outputs": [
    {
     "name": "stdout",
     "output_type": "stream",
     "text": [
      "Accuracy: 0.9999465400399378\n"
     ]
    }
   ],
   "source": [
    "# Предсказания на тестовых данных\n",
    "y_pred = model.predict(test_pool)\n",
    "\n",
    "# Преобразуем предсказания обратно в оригинальные значения\n",
    "#y_pred = label_encoder.inverse_transform(y_pred)\n",
    "\n",
    "# Оценка качества модели\n",
    "accuracy = accuracy_score(y_test, y_pred)\n",
    "\n",
    "print(f'Accuracy: {accuracy}')"
   ]
  },
  {
   "cell_type": "code",
   "execution_count": 20,
   "metadata": {},
   "outputs": [],
   "source": [
    "model.save_model(\"../main_bills_predict.cbm\", format=\"cbm\")"
   ]
  },
  {
   "cell_type": "code",
   "execution_count": 28,
   "metadata": {},
   "outputs": [
    {
     "name": "stdout",
     "output_type": "stream",
     "text": [
      "[7.04840601e+09 7.04820901e+09 7.04820901e+09 ... 7.04820901e+09\n",
      " 7.04820901e+09 7.04820901e+09]\n"
     ]
    }
   ],
   "source": [
    "\n",
    "y_test = label_encoder.fit_transform(y_test)\n",
    "y_test = label_encoder.inverse_transform(y_test)\n",
    "y_pred = label_encoder.fit_transform(y_pred)\n",
    "y_pred = label_encoder.inverse_transform(y_pred)\n",
    "\n"
   ]
  },
  {
   "cell_type": "code",
   "execution_count": 30,
   "metadata": {},
   "outputs": [],
   "source": [
    "import matplotlib.pyplot as plt"
   ]
  },
  {
   "cell_type": "code",
   "execution_count": 37,
   "metadata": {},
   "outputs": [
    {
     "data": {
      "image/png": "[encoded data removed]",
      "text/plain": [
       "<Figure size 640x480 with 1 Axes>"
      ]
     },
     "metadata": {},
     "output_type": "display_data"
    },
    {
     "name": "stdout",
     "output_type": "stream",
     "text": [
      "[7048209010, 7048209010, 7048406010, 7048209010, 7048209010, 7048209010, 7048209010, 7048208010, 7048406010, 7048209010, 7048208010, 7048209010, 7048209010, 7048208010, 7048209010, 7048209010, 7048209010, 7047505010, 7048209010, 7048209010, 7048406010, 7048209010, 7048209010, 7048208010, 7048406010, 7048209010, 7048209010, 7048209020, 7048209010, 7048209010, 7048208010, 7048209010, 7048208010, 7047505010, 7048209010, 7048208010, 7048209010, 7048209010, 7048209010, 7048208010, 7048209010, 7048208010, 7048414960, 7047504010, 7048209010, 7048209010, 7048406010, 7048209010, 7048406010, 7048209010, 7048209010, 7048208010, 7048208010, 7048209010, 7048209010, 7048209010, 7048209010, 7048209010, 7048209010, 7048208010, 7048209010, 7048209010, 7048406010, 7048209010, 7048208010, 7048209010, 7048209010, 7048406010, 7048406010, 7048414960, 7048208010, 7048406010, 7048209010, 7048208010, 7048209010, 7048208010, 7048414960, 7048414960, 7048208010, 7048209010, 7048209010, 7048414960, 7048209010, 7048208010, 7048208010, 7048414960, 7048208010, 7048414960, 7048208010, 7048208010, 7048209010, 7048209010, 7048209010, 7048209010, 7048209010, 7047505010, 7048209010, 7048414960, 7048406010, 7048209010]\n"
     ]
    }
   ],
   "source": [
    "fig, ax = plt.subplots()\n",
    "ax.plot([x for x in range(100, 200)], y_pred[100:200], color=\"r\")\n",
    "ax.plot([x for x in range(100, 200)], y_test[100:200], color=\"b\")\n",
    "plt.show()  \n",
    "\n",
    "print([int(x) for x in y_pred[100:200]])"
   ]
  }
 ],
 "metadata": {
  "kernelspec": {
   "display_name": ".venv",
   "language": "python",
   "name": "python3"
  },
  "language_info": {
   "codemirror_mode": {
    "name": "ipython",
    "version": 3
   },
   "file_extension": ".py",
   "mimetype": "text/x-python",
   "name": "python",
   "nbconvert_exporter": "python",
   "pygments_lexer": "ipython3",
   "version": "3.11.0"
  }
 },
 "nbformat": 4,
 "nbformat_minor": 2
}
