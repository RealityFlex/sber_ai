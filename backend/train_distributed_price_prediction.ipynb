{
 "cells": [
  {
   "cell_type": "code",
   "execution_count": 1,
   "metadata": {},
   "outputs": [],
   "source": [
    "import pandas as pd\n",
    "from catboost import CatBoostClassifier, Pool\n",
    "from sklearn.model_selection import train_test_split\n",
    "from sklearn.metrics import accuracy_score, classification_report\n",
    "from sklearn.preprocessing import LabelEncoder\n",
    "from joblib import dump, load"
   ]
  },
  {
   "cell_type": "code",
   "execution_count": 8,
   "metadata": {},
   "outputs": [
    {
     "name": "stdout",
     "output_type": "stream",
     "text": [
      "<class 'pandas.core.frame.DataFrame'>\n",
      "RangeIndex: 423570 entries, 0 to 423569\n",
      "Data columns (total 17 columns):\n",
      " #   Column                                           Non-Null Count   Dtype         \n",
      "---  ------                                           --------------   -----         \n",
      " 0   Компания                                         423570 non-null  int64         \n",
      " 1   Год счета                                        423570 non-null  int64         \n",
      " 2   Номер счета                                      423570 non-null  int64         \n",
      " 3   Позиция счета                                    423570 non-null  int64         \n",
      " 4   Номер позиции распределения                      423570 non-null  int64         \n",
      " 5   Дата отражения в учетной системе                 410832 non-null  datetime64[ns]\n",
      " 6   ID договора                                      423570 non-null  object        \n",
      " 7   Услуга                                           423570 non-null  int64         \n",
      " 8   Класс услуги                                     423570 non-null  object        \n",
      " 9   Здание                                           412028 non-null  object        \n",
      " 10  Класс ОС                                         418161 non-null  object        \n",
      " 11  ID основного средства                            423570 non-null  int64         \n",
      " 12  Признак \"Использование в основной деятельности\"  322854 non-null  object        \n",
      " 13  Признак \"Способ использования\"                   91828 non-null   object        \n",
      " 14  Площадь                                          423570 non-null  float64       \n",
      " 15  Сумма распределения                              423570 non-null  float64       \n",
      " 16  Счет главной книги                               383047 non-null  float64       \n",
      "dtypes: datetime64[ns](1), float64(3), int64(7), object(6)\n",
      "memory usage: 54.9+ MB\n"
     ]
    }
   ],
   "source": [
    "df = pd.read_excel(\"../data/example_output/Распределенные счета на оплату 3800-2023.xlsx\")\n",
    "df = df.drop(['Признак \"Использование в основной деятельности\"', 'Позиция счета'], axis=1).dropna()\n",
    "df.info()\n"
   ]
  },
  {
   "cell_type": "markdown",
   "metadata": {},
   "source": [
    "### Мысли вслух\n",
    "попытаться добавить количество основных средств, которые участвуют в договоре, мб счета по ним + площадь данного основного средства"
   ]
  }
 ],
 "metadata": {
  "kernelspec": {
   "display_name": ".venv",
   "language": "python",
   "name": "python3"
  },
  "language_info": {
   "codemirror_mode": {
    "name": "ipython",
    "version": 3
   },
   "file_extension": ".py",
   "mimetype": "text/x-python",
   "name": "python",
   "nbconvert_exporter": "python",
   "pygments_lexer": "ipython3",
   "version": "3.11.0"
  }
 },
 "nbformat": 4,
 "nbformat_minor": 2
}
